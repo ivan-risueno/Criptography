{
 "cells": [
  {
   "cell_type": "code",
   "execution_count": 16,
   "id": "5b31a123",
   "metadata": {},
   "outputs": [
    {
     "data": {
      "text/plain": [
       "True"
      ]
     },
     "execution_count": 16,
     "metadata": {},
     "output_type": "execute_result"
    }
   ],
   "source": [
    "# Ejercicio 1a): Comprobad que el número de puntos (orden) de la curva usada en el certificado es primo.\n",
    "\n",
    "# Parámetros de la curva p-256(https://neuromancer.sk/std/nist/P-256#)\n",
    "p = 0xffffffff00000001000000000000000000000000ffffffffffffffffffffffff\n",
    "n = 0xffffffff00000000ffffffffffffffffbce6faada7179e84f3b9cac2fc632551\n",
    "a = 0xffffffff00000001000000000000000000000000fffffffffffffffffffffffc\n",
    "b = 0x5ac635d8aa3a93e7b3ebbd55769886bc651d06b0cc53b0f63bce3c3e27d2604b\n",
    "\n",
    "\n",
    "E = EllipticCurve(Zmod(p),[a,b])\n",
    "E.cardinality().is_prime()"
   ]
  },
  {
   "cell_type": "code",
   "execution_count": 17,
   "id": "585fccee",
   "metadata": {},
   "outputs": [],
   "source": [
    "# Ejercicio 1b): Comprobad que la clave pública P de www.wikipedia.org es realmente un punto de la curva.\n",
    "\n",
    "# Podemos comprobar si un punto P pertenece a la curva calculando su orden. Si éste\n",
    "# existe, podemos afirmar que el punto pertenece a la curva (cálculo en la siguiente celda)\n"
   ]
  },
  {
   "cell_type": "code",
   "execution_count": 18,
   "id": "e77ea91e",
   "metadata": {},
   "outputs": [
    {
     "data": {
      "text/plain": [
       "115792089210356248762697446949407573529996955224135760342422259061068512044369"
      ]
     },
     "execution_count": 18,
     "metadata": {},
     "output_type": "execute_result"
    }
   ],
   "source": [
    "# Ejercicio 1c): Calculad el orden del punto P.\n",
    "\n",
    "# Este punto corresponde a la clave pública (Qx, Qy) obtenida en la captura de wireshark\n",
    "Px = 0x3561f4211aff6ac43bfa0647c6196ebe7038f1dc16b1bc381412d4142b1c0b31\n",
    "Py = 0x8159f567f6e72ad13c1efaaea7ed065dd66f5d894c6bc8b0e00f83cff5d38ada\n",
    "P = E([Px,Py])\n",
    "q = P.order()\n",
    "q"
   ]
  },
  {
   "cell_type": "code",
   "execution_count": 19,
   "id": "8f5b1588",
   "metadata": {},
   "outputs": [
    {
     "data": {
      "text/plain": [
       "True"
      ]
     },
     "execution_count": 19,
     "metadata": {},
     "output_type": "execute_result"
    }
   ],
   "source": [
    "# Ejercicio 1d): Comprobad que la firma ECDSA es correcta.\n",
    "\n",
    "# Valores obtenidos de la captura de wireshark\n",
    "f1 = 0x00a3eb0caf2ac3852d527034db8493ea2418c2c62a32606229f82d22c2e68db13a\n",
    "f2 = 0x00f4e1203fff6a2cf02c4e65ccee949e3f01e705c0c616d86dae579135a8ec7f33\n",
    "\n",
    "# Mensaje obtenido a partir del script en python proporcionado\n",
    "m = 0x609e4c774f4cc24d3a787823904df5505977cb4e2da693e75becd0d4f2c84f24\n",
    "\n",
    "# Punto obtenido en el documento NIST\n",
    "x1 = 0x6b17d1f2e12c4247f8bce6e563a440f277037d812deb33a0f4a13945d898c296\n",
    "y1 = 0x4fe342e2fe1a7f9b8ee7eb4a7c0f9e162bce33576b315ececbb6406837bf51f5\n",
    "P2 = E([x1,y1])\n",
    "\n",
    "w1 = mod(m*f2^-1,q)\n",
    "w2 = mod(f1*f2^-1,q)\n",
    "\n",
    "x0y0 = Integer(w1)*P2+P*Integer(w2)\n",
    "mod(x0y0[0],q) == f1\n"
   ]
  },
  {
   "cell_type": "code",
   "execution_count": null,
   "id": "4be7bfc4",
   "metadata": {},
   "outputs": [],
   "source": []
  },
  {
   "cell_type": "code",
   "execution_count": null,
   "id": "237accf9",
   "metadata": {},
   "outputs": [],
   "source": []
  },
  {
   "cell_type": "code",
   "execution_count": null,
   "id": "2d1fc75f",
   "metadata": {},
   "outputs": [],
   "source": []
  },
  {
   "cell_type": "code",
   "execution_count": null,
   "id": "c8c69d81",
   "metadata": {},
   "outputs": [],
   "source": []
  },
  {
   "cell_type": "code",
   "execution_count": null,
   "id": "e6ff292a",
   "metadata": {},
   "outputs": [],
   "source": []
  }
 ],
 "metadata": {
  "kernelspec": {
   "display_name": "SageMath 9.5",
   "language": "sage",
   "name": "sagemath"
  },
  "language_info": {
   "codemirror_mode": {
    "name": "ipython",
    "version": 3
   },
   "file_extension": ".py",
   "mimetype": "text/x-python",
   "name": "python",
   "nbconvert_exporter": "python",
   "pygments_lexer": "ipython3",
   "version": "3.10.12"
  }
 },
 "nbformat": 4,
 "nbformat_minor": 5
}
